{
 "cells": [
  {
   "cell_type": "code",
   "execution_count": 6,
   "metadata": {
    "collapsed": true
   },
   "outputs": [],
   "source": [
    "## hyper parameters \n",
    "gamma = 0.9\n",
    "learning_rate = 0.1\n",
    "\n",
    "episode_length = 10\n",
    "batch_size = 1\n",
    "num_iteration = 1"
   ]
  },
  {
   "cell_type": "code",
   "execution_count": 7,
   "metadata": {
    "collapsed": false
   },
   "outputs": [
    {
     "name": "stdout",
     "output_type": "stream",
     "text": [
      "action space:  Box(1,)\n",
      "[1.] [-1.]\n",
      "observation space:  Box(2,)\n",
      "[0.6  0.07] [-1.2  -0.07]\n"
     ]
    }
   ],
   "source": [
    "import gym\n",
    "env = gym.make('MountainCarContinuous-v0')\n",
    "print('action space: ', env.action_space)\n",
    "print(env.action_space.high, env.action_space.low)\n",
    "print('observation space: ', env.observation_space)\n",
    "print(env.observation_space.high, env.observation_space.low)"
   ]
  },
  {
   "cell_type": "code",
   "execution_count": 8,
   "metadata": {
    "collapsed": true
   },
   "outputs": [],
   "source": [
    "def sample_one_episode(env, model):\n",
    "    discounted_reward = 0\n",
    "    observation = env.reset()\n",
    "    #print('initial state: ', observation)\n",
    "    for t in range(episode_length):\n",
    "        \n",
    "        ################# substitude with neurak netwok ################# \n",
    "        #_action = env.action_space.sample()\n",
    "        #print('_action', _action)\n",
    "        #################################################################\n",
    "        action = model(observation)[0]\n",
    "        #print('action', action)\n",
    "        #################################################################\n",
    "        observation, reward, done, info = env.step(action)\n",
    "        print('reward', reward)\n",
    "        discounted_reward += (gamma**t)*reward\n",
    "        if done:\n",
    "            print('Episode finished after {} timesteps'.format(t+1))\n",
    "            break\n",
    "            \n",
    "    #print('reward for episode :', discounted_reward)\n",
    "    return discounted_reward\n",
    "    \n",
    "def sample_batch_episodes(env, model, batch_size):\n",
    "    average_discounted_reward = 0\n",
    "    for b in range(batch_size):\n",
    "        average_discounted_reward += sample_one_episode(env, model)\n",
    "    print('reward for batch :', average_discounted_reward)\n",
    "    return average_discounted_reward/batch_size"
   ]
  },
  {
   "cell_type": "code",
   "execution_count": 9,
   "metadata": {
    "collapsed": false
   },
   "outputs": [],
   "source": [
    "import import_ipynb\n",
    "import nn_lib\n",
    "from nn_lib import *\n",
    "\n",
    "def policy_gradient(env):\n",
    "    # randomly initialize a network\n",
    "    input_dim = 2\n",
    "    neurons = [16, 1]\n",
    "    activations = [\"relu\", \"sigmoid\"]\n",
    "    model = MultiLayerNetwork(input_dim, neurons, activations)\n",
    "    \n",
    "    for i in range(num_iteration):\n",
    "        loss = sample_batch_episodes(env, model, batch_size)\n",
    "        \n",
    "        # update model parameter according to loss\n",
    "        grad_z = int(loss)\n",
    "        model.backward(grad_z)\n",
    "        model.update_params(learning_rate)"
   ]
  },
  {
   "cell_type": "code",
   "execution_count": 10,
   "metadata": {
    "collapsed": false
   },
   "outputs": [
    {
     "name": "stdout",
     "output_type": "stream",
     "text": [
      "0 ---activation: relu\n",
      "1 ---activation: sigmoid\n",
      "reward -0.0054297869862129\n",
      "reward -0.005428450139094637\n",
      "reward -0.005425985792172454\n",
      "reward -0.005422413762059202\n",
      "reward -0.005417762743381668\n",
      "reward -0.0054120700510470665\n",
      "reward -0.005405381284250436\n",
      "reward -0.005397749914777209\n",
      "reward -0.005389236802993443\n",
      "reward -0.0053799096458555\n",
      "reward for batch : -0.035272292858658016\n"
     ]
    }
   ],
   "source": [
    "policy_gradient(env)\n",
    "env.close()"
   ]
  },
  {
   "cell_type": "code",
   "execution_count": null,
   "metadata": {
    "collapsed": true
   },
   "outputs": [],
   "source": []
  }
 ],
 "metadata": {
  "kernelspec": {
   "display_name": "Python 3",
   "language": "python",
   "name": "python3"
  },
  "language_info": {
   "codemirror_mode": {
    "name": "ipython",
    "version": 3
   },
   "file_extension": ".py",
   "mimetype": "text/x-python",
   "name": "python",
   "nbconvert_exporter": "python",
   "pygments_lexer": "ipython3",
   "version": "3.5.1"
  }
 },
 "nbformat": 4,
 "nbformat_minor": 0
}
