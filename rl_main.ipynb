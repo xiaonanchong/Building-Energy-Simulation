{
 "cells": [
  {
   "cell_type": "code",
   "execution_count": 44,
   "metadata": {
    "collapsed": true
   },
   "outputs": [],
   "source": [
    "## hyper parameters \n",
    "gamma = 0.9\n",
    "learning_rate = 0.1\n",
    "\n",
    "episode_length = 10\n",
    "batch_size = 1\n",
    "num_iteration = 1"
   ]
  },
  {
   "cell_type": "code",
   "execution_count": 45,
   "metadata": {
    "collapsed": false
   },
   "outputs": [
    {
     "name": "stdout",
     "output_type": "stream",
     "text": [
      "action space:  Box(4,)\n",
      "[40. 40.  7.  7.] [10.   10.    1.75  1.75]\n",
      "observation space:  Box(6,)\n",
      "[5.e+01 5.e+01 5.e+01 1.e+09 1.e+09 1.e+09] [-20. -20. -20.   0.   0.   0.]\n"
     ]
    }
   ],
   "source": [
    "import gym\n",
    "env = gym.make('gym_energyplus:EnergyPlus-v0')#gym.make('MountainCarContinuous-v0')\n",
    "print('action space: ', env.action_space)\n",
    "print(env.action_space.high, env.action_space.low)\n",
    "print('observation space: ', env.observation_space)\n",
    "print(env.observation_space.high, env.observation_space.low)"
   ]
  },
  {
   "cell_type": "code",
   "execution_count": 46,
   "metadata": {
    "collapsed": false
   },
   "outputs": [],
   "source": [
    "def sample_one_episode(env, model):\n",
    "    discounted_reward = 0\n",
    "    observation = env.reset()\n",
    "    #print('initial state: ', observation)\n",
    "    for t in range(episode_length):\n",
    "        \n",
    "        ################# substitude with neurak netwok ################# \n",
    "        _action = env.action_space.sample()\n",
    "        print('_action', _action)\n",
    "        #################################################################\n",
    "        action = _action#model(observation)[0]\n",
    "        #print('action', action)\n",
    "        #################################################################\n",
    "        observation, reward, done, info = env.step(action)\n",
    "        discounted_reward += (gamma**t)*reward\n",
    "        if done:\n",
    "            print('Episode finished after {} timesteps'.format(t+1))\n",
    "            break\n",
    "            \n",
    "    #print('reward for episode :', discounted_reward)\n",
    "    return discounted_reward\n",
    "    \n",
    "def sample_batch_episodes(env, model, batch_size):\n",
    "    average_discounted_reward = 0\n",
    "    for b in range(batch_size):\n",
    "        average_discounted_reward += sample_one_episode(env, model)\n",
    "    print('reward for batch :', average_discounted_reward)\n",
    "    return average_discounted_reward/batch_size"
   ]
  },
  {
   "cell_type": "code",
   "execution_count": 51,
   "metadata": {
    "collapsed": false
   },
   "outputs": [],
   "source": [
    "import import_ipynb\n",
    "import nn_lib\n",
    "from nn_lib import *\n",
    "\n",
    "def policy_gradient(env):\n",
    "    # randomly initialize a network\n",
    "    input_dim = 2\n",
    "    neurons = [16, 1]\n",
    "    activations = [\"relu\", \"sigmoid\"]\n",
    "    model = MultiLayerNetwork(input_dim, neurons, activations)\n",
    "    \n",
    "    for i in range(num_iteration):\n",
    "        loss = sample_batch_episodes(env, model, batch_size)\n",
    "        \n",
    "        # update model parameter according to loss\n",
    "        grad_z = int(loss)\n",
    "        model.backward(grad_z)\n",
    "        model.update_params(learning_rate)"
   ]
  },
  {
   "cell_type": "code",
   "execution_count": 52,
   "metadata": {
    "collapsed": false
   },
   "outputs": [
    {
     "name": "stdout",
     "output_type": "stream",
     "text": [
      "0 ---activation: relu\n",
      "1 ---activation: sigmoid\n",
      "EnergyPlusEnv: Severe error(s) occurred. Error count: -1\n",
      "EnergyPlusEnv: Check contents of log/output/episode-00000000/eplusout.err\n",
      "Starting new environment\n",
      "start_instance(): idx=1, model_file=/home/hchonglondon/rl-testbed-for-energyplus/EnergyPlus/Model/2ZoneDataCenterHVAC_wEconomizer_Temp_Fan.idf\n",
      "start_instance(): weather_files[0]=/usr/local/EnergyPlus-8-8-0/WeatherData/USA_CA_San.Francisco.Intl.AP.724940_TMY3.epw\n",
      "Starting EnergyPlus with command: /usr/local/EnergyPlus-8-8-0/energyplus -r -x -d log/output/episode-00000001 -w log/output/episode-00000001/USA_CA_San.Francisco.Intl.AP.724940_TMY3.epw log/output/episode-00000001/2ZoneDataCenterHVAC_wEconomizer_Temp_Fan.idf\n",
      "PipeIo.readline: Opening OBS pipe [/tmp/extctrl_3572_obs]\n",
      "_action [14.914138  32.196564   4.743483   5.0941725]\n",
      "PipeIo.writeline: Opened ACT pipe /tmp/extctrl_3572_act\n",
      "_action [20.275482  32.783863   2.5398738  3.9743793]\n",
      "_action [25.729105  28.501482   3.3467724  6.528273 ]\n",
      "_action [21.60764   17.593792   4.4701014  3.5664704]\n",
      "_action [21.432846  31.705307   2.0475364  5.566704 ]\n",
      "_action [11.363035 21.480827  5.698216  2.022797]\n",
      "_action [23.192104 19.155834  2.566402  5.880021]\n",
      "_action [18.58343   38.834927   3.2702668  4.057297 ]\n",
      "_action [16.3234   27.553917  4.578276  4.569835]\n",
      "_action [14.19997   19.734457   2.3785555  6.4361258]\n",
      "reward for batch : 8.497261713167113\n"
     ]
    },
    {
     "ename": "TypeError",
     "evalue": "unsupported operand type(s) for -: 'int' and 'NoneType'",
     "output_type": "error",
     "traceback": [
      "\u001b[1;31m---------------------------------------------------------------------------\u001b[0m",
      "\u001b[1;31mTypeError\u001b[0m                                 Traceback (most recent call last)",
      "\u001b[1;32m<ipython-input-52-45d4b045b064>\u001b[0m in \u001b[0;36m<module>\u001b[1;34m()\u001b[0m\n\u001b[1;32m----> 1\u001b[1;33m \u001b[0mpolicy_gradient\u001b[0m\u001b[1;33m(\u001b[0m\u001b[0menv\u001b[0m\u001b[1;33m)\u001b[0m\u001b[1;33m\u001b[0m\u001b[0m\n\u001b[0m\u001b[0;32m      2\u001b[0m \u001b[0menv\u001b[0m\u001b[1;33m.\u001b[0m\u001b[0mclose\u001b[0m\u001b[1;33m(\u001b[0m\u001b[1;33m)\u001b[0m\u001b[1;33m\u001b[0m\u001b[0m\n",
      "\u001b[1;32m<ipython-input-51-79a0f72167f6>\u001b[0m in \u001b[0;36mpolicy_gradient\u001b[1;34m(env)\u001b[0m\n\u001b[0;32m     15\u001b[0m         \u001b[1;31m# update model parameter according to loss\u001b[0m\u001b[1;33m\u001b[0m\u001b[1;33m\u001b[0m\u001b[0m\n\u001b[0;32m     16\u001b[0m         \u001b[0mgrad_z\u001b[0m \u001b[1;33m=\u001b[0m \u001b[0mint\u001b[0m\u001b[1;33m(\u001b[0m\u001b[0mloss\u001b[0m\u001b[1;33m)\u001b[0m\u001b[1;33m\u001b[0m\u001b[0m\n\u001b[1;32m---> 17\u001b[1;33m         \u001b[0mmodel\u001b[0m\u001b[1;33m.\u001b[0m\u001b[0mbackward\u001b[0m\u001b[1;33m(\u001b[0m\u001b[0mgrad_z\u001b[0m\u001b[1;33m)\u001b[0m\u001b[1;33m\u001b[0m\u001b[0m\n\u001b[0m\u001b[0;32m     18\u001b[0m         \u001b[0mmodel\u001b[0m\u001b[1;33m.\u001b[0m\u001b[0mupdate_params\u001b[0m\u001b[1;33m(\u001b[0m\u001b[0mlearning_rate\u001b[0m\u001b[1;33m)\u001b[0m\u001b[1;33m\u001b[0m\u001b[0m\n",
      "\u001b[1;32m/home/hchonglondon/XNCHONG1/nn_lib.ipynb\u001b[0m in \u001b[0;36mbackward\u001b[1;34m(self, grad_z)\u001b[0m\n",
      "\u001b[1;32m/home/hchonglondon/XNCHONG1/nn_lib.ipynb\u001b[0m in \u001b[0;36mbackward\u001b[1;34m(self, grad_z)\u001b[0m\n",
      "\u001b[1;31mTypeError\u001b[0m: unsupported operand type(s) for -: 'int' and 'NoneType'"
     ]
    }
   ],
   "source": [
    "policy_gradient(env)\n",
    "env.close()"
   ]
  },
  {
   "cell_type": "code",
   "execution_count": null,
   "metadata": {
    "collapsed": false
   },
   "outputs": [],
   "source": [
    "gym.make('gym_energyplus:EnergyPlus-v0')"
   ]
  },
  {
   "cell_type": "code",
   "execution_count": 50,
   "metadata": {
    "collapsed": false
   },
   "outputs": [
    {
     "ename": "NameError",
     "evalue": "name 'grad_z' is not defined",
     "output_type": "error",
     "traceback": [
      "\u001b[1;31m---------------------------------------------------------------------------\u001b[0m",
      "\u001b[1;31mNameError\u001b[0m                                 Traceback (most recent call last)",
      "\u001b[1;32m<ipython-input-50-392d88b50612>\u001b[0m in \u001b[0;36m<module>\u001b[1;34m()\u001b[0m\n\u001b[1;32m----> 1\u001b[1;33m \u001b[0mgrad_z\u001b[0m\u001b[1;33m\u001b[0m\u001b[0m\n\u001b[0m",
      "\u001b[1;31mNameError\u001b[0m: name 'grad_z' is not defined"
     ]
    }
   ],
   "source": [
    "grad_z"
   ]
  },
  {
   "cell_type": "code",
   "execution_count": null,
   "metadata": {
    "collapsed": true
   },
   "outputs": [],
   "source": []
  }
 ],
 "metadata": {
  "kernelspec": {
   "display_name": "Python 3",
   "language": "python",
   "name": "python3"
  },
  "language_info": {
   "codemirror_mode": {
    "name": "ipython",
    "version": 3
   },
   "file_extension": ".py",
   "mimetype": "text/x-python",
   "name": "python",
   "nbconvert_exporter": "python",
   "pygments_lexer": "ipython3",
   "version": "3.5.1"
  }
 },
 "nbformat": 4,
 "nbformat_minor": 0
}
