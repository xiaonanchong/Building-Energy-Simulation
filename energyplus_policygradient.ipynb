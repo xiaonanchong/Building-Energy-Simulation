{
 "cells": [
  {
   "cell_type": "code",
   "execution_count": 13,
   "metadata": {
    "collapsed": false
   },
   "outputs": [
    {
     "name": "stdout",
     "output_type": "stream",
     "text": [
      "action space:  Box(4,)\n",
      "[40. 40.  7.  7.] [10.   10.    1.75  1.75]\n",
      "observation space:  Box(6,)\n",
      "[5.e+01 5.e+01 5.e+01 1.e+09 1.e+09 1.e+09] [-20. -20. -20.   0.   0.   0.]\n",
      "EnergyPlusEnv: Severe error(s) occurred. Error count: -1\n",
      "EnergyPlusEnv: Check contents of log/output/episode-00000001/eplusout.err\n",
      "Starting new environment\n",
      "start_instance(): idx=2, model_file=SOMEWHERE/rl-testbed-for-energyplus/EnergyPlus/Model/2ZoneDataCenterHVAC_wEconomizer_Temp_Fan.idf\n",
      "start_instance(): weather_files[0]=/usr/local/EnergyPlus-8-8-0/WeatherData/USA_CA_San.Francisco.Intl.AP.724940_TMY3.epw\n",
      "Starting EnergyPlus with command: /usr/local/EnergyPlus-8-8-0/energyplus -r -x -d log/output/episode-00000002 -w log/output/episode-00000002/USA_CA_San.Francisco.Intl.AP.724940_TMY3.epw log/output/episode-00000002/2ZoneDataCenterHVAC_wEconomizer_Temp_Fan.idf\n",
      "PipeIo.readline: Opening OBS pipe [/tmp/extctrl_1680_obs]\n",
      "observation:  [6.825e+00 2.300e+01 2.300e+01 7.471e+04 7.253e+04 2.178e+03]\n"
     ]
    }
   ],
   "source": [
    "import gym\n",
    "#env = gym.make('gym_energyplus:EnergyPlus-v0')#\n",
    "gym.make('MountainCarContinuous-v0')\n",
    "print('action space: ', env.action_space)\n",
    "print(env.action_space.high, env.action_space.low)\n",
    "print('observation space: ', env.observation_space)\n",
    "print(env.observation_space.high, env.observation_space.low)\n",
    "observation = env.reset()\n",
    "print('observation: ', observation)"
   ]
  },
  {
   "cell_type": "code",
   "execution_count": 14,
   "metadata": {
    "collapsed": false
   },
   "outputs": [
    {
     "name": "stdout",
     "output_type": "stream",
     "text": [
      "PipeIo.writeline: Opened ACT pipe /tmp/extctrl_1680_act\n",
      "(array([6.825e+00, 2.300e+01, 2.300e+01, 4.606e+04, 4.140e+04, 4.660e+03]), 1.3046185227572893, False, {})\n"
     ]
    }
   ],
   "source": [
    "print(env.step((env.action_space.high + env.action_space.low)*0.5))"
   ]
  },
  {
   "cell_type": "code",
   "execution_count": 15,
   "metadata": {
    "collapsed": false
   },
   "outputs": [],
   "source": [
    "import baselines\n",
    "from baselines.trpo_mpi import trpo_mpi"
   ]
  },
  {
   "cell_type": "code",
   "execution_count": 17,
   "metadata": {
    "collapsed": false
   },
   "outputs": [
    {
     "name": "stdout",
     "output_type": "stream",
     "text": [
      "\u001b[33mYou are using pip version 8.1.1, however version 19.1.1 is available.\r\n",
      "You should consider upgrading via the 'pip install --upgrade pip' command.\u001b[0m\r\n"
     ]
    }
   ],
   "source": [
    "!pip install git+https://github.com/openai/baselines > ~/pip_install_baselines.log\n"
   ]
  },
  {
   "cell_type": "code",
   "execution_count": 18,
   "metadata": {
    "collapsed": false
   },
   "outputs": [
    {
     "ename": "AssertionError",
     "evalue": "/home/hchonglondon/logs/cartpole-ppo doesn't exist",
     "output_type": "error",
     "traceback": [
      "\u001b[1;31m---------------------------------------------------------------------------\u001b[0m",
      "\u001b[1;31mAssertionError\u001b[0m                            Traceback (most recent call last)",
      "\u001b[1;32m<ipython-input-18-7d86d67414f0>\u001b[0m in \u001b[0;36m<module>\u001b[1;34m()\u001b[0m\n\u001b[0;32m      1\u001b[0m \u001b[1;32mfrom\u001b[0m \u001b[0mbaselines\u001b[0m\u001b[1;33m.\u001b[0m\u001b[0mcommon\u001b[0m \u001b[1;32mimport\u001b[0m \u001b[0mplot_util\u001b[0m \u001b[1;32mas\u001b[0m \u001b[0mpu\u001b[0m\u001b[1;33m\u001b[0m\u001b[0m\n\u001b[1;32m----> 2\u001b[1;33m \u001b[0mresults\u001b[0m \u001b[1;33m=\u001b[0m \u001b[0mpu\u001b[0m\u001b[1;33m.\u001b[0m\u001b[0mload_results\u001b[0m\u001b[1;33m(\u001b[0m\u001b[1;34m'~/logs/cartpole-ppo'\u001b[0m\u001b[1;33m)\u001b[0m\u001b[1;33m\u001b[0m\u001b[0m\n\u001b[0m",
      "\u001b[1;32m/home/hchonglondon/baselines/baselines/common/plot_util.py\u001b[0m in \u001b[0;36mload_results\u001b[1;34m(root_dir_or_dirs, enable_progress, enable_monitor, verbose)\u001b[0m\n\u001b[0;32m    176\u001b[0m     \u001b[0mallresults\u001b[0m \u001b[1;33m=\u001b[0m \u001b[1;33m[\u001b[0m\u001b[1;33m]\u001b[0m\u001b[1;33m\u001b[0m\u001b[0m\n\u001b[0;32m    177\u001b[0m     \u001b[1;32mfor\u001b[0m \u001b[0mrootdir\u001b[0m \u001b[1;32min\u001b[0m \u001b[0mrootdirs\u001b[0m\u001b[1;33m:\u001b[0m\u001b[1;33m\u001b[0m\u001b[0m\n\u001b[1;32m--> 178\u001b[1;33m         \u001b[1;32massert\u001b[0m \u001b[0mosp\u001b[0m\u001b[1;33m.\u001b[0m\u001b[0mexists\u001b[0m\u001b[1;33m(\u001b[0m\u001b[0mrootdir\u001b[0m\u001b[1;33m)\u001b[0m\u001b[1;33m,\u001b[0m \u001b[1;34m\"%s doesn't exist\"\u001b[0m\u001b[1;33m%\u001b[0m\u001b[0mrootdir\u001b[0m\u001b[1;33m\u001b[0m\u001b[0m\n\u001b[0m\u001b[0;32m    179\u001b[0m         \u001b[1;32mfor\u001b[0m \u001b[0mdirname\u001b[0m\u001b[1;33m,\u001b[0m \u001b[0mdirs\u001b[0m\u001b[1;33m,\u001b[0m \u001b[0mfiles\u001b[0m \u001b[1;32min\u001b[0m \u001b[0mos\u001b[0m\u001b[1;33m.\u001b[0m\u001b[0mwalk\u001b[0m\u001b[1;33m(\u001b[0m\u001b[0mrootdir\u001b[0m\u001b[1;33m)\u001b[0m\u001b[1;33m:\u001b[0m\u001b[1;33m\u001b[0m\u001b[0m\n\u001b[0;32m    180\u001b[0m             \u001b[1;32mif\u001b[0m \u001b[1;34m'-proc'\u001b[0m \u001b[1;32min\u001b[0m \u001b[0mdirname\u001b[0m\u001b[1;33m:\u001b[0m\u001b[1;33m\u001b[0m\u001b[0m\n",
      "\u001b[1;31mAssertionError\u001b[0m: /home/hchonglondon/logs/cartpole-ppo doesn't exist"
     ]
    }
   ],
   "source": [
    "from baselines.common import plot_util as pu\n",
    "results = pu.load_results('~/logs/cartpole-ppo')"
   ]
  },
  {
   "cell_type": "code",
   "execution_count": 21,
   "metadata": {
    "collapsed": false
   },
   "outputs": [
    {
     "name": "stdout",
     "output_type": "stream",
     "text": [
      "/home/hchonglondon/.local/lib/python3.5/site-packages/requests/__init__.py:83: RequestsDependencyWarning: Old version of cryptography ([1, 3]) may cause slowdown.\n",
      "  warnings.warn(warning, RequestsDependencyWarning)\n",
      "env_type: classic_control\n",
      "2019-05-24 14:35:01.745424: I tensorflow/core/platform/cpu_feature_guard.cc:141] Your CPU supports instructions that this TensorFlow binary was not compiled to use: AVX2 FMA\n",
      "2019-05-24 14:35:01.751428: I tensorflow/core/platform/profile_utils/cpu_utils.cc:94] CPU Frequency: 2200000000 Hz\n",
      "2019-05-24 14:35:01.752977: I tensorflow/compiler/xla/service/service.cc:150] XLA service 0x4a69cf0 executing computations on platform Host. Devices:\n",
      "2019-05-24 14:35:01.753056: I tensorflow/compiler/xla/service/service.cc:158]   StreamExecutor device (0): <undefined>, <undefined>\n",
      "Training ppo2 on classic_control:CartPole-v0 with arguments \n",
      "{'nsteps': 128, 'network': 'mlp'}\n",
      "Traceback (most recent call last):\n",
      "  File \"/home/hchonglondon/anaconda3/lib/python3.5/runpy.py\", line 170, in _run_module_as_main\n",
      "    \"__main__\", mod_spec)\n",
      "  File \"/home/hchonglondon/anaconda3/lib/python3.5/runpy.py\", line 85, in _run_code\n",
      "    exec(code, run_globals)\n",
      "  File \"/home/hchonglondon/baselines/baselines/run.py\", line 244, in <module>\n",
      "    main(sys.argv)\n",
      "  File \"/home/hchonglondon/baselines/baselines/run.py\", line 210, in main\n",
      "    model, env = train(args, extra_args)\n",
      "  File \"/home/hchonglondon/baselines/baselines/run.py\", line 80, in train\n",
      "    **alg_kwargs\n",
      "  File \"/home/hchonglondon/baselines/baselines/ppo2/ppo2.py\", line 104, in learn\n",
      "    from baselines.ppo2.model import Model\n",
      "  File \"/home/hchonglondon/baselines/baselines/ppo2/model.py\", line 8, in <module>\n",
      "    from baselines.common.mpi_adam_optimizer import MpiAdamOptimizer\n",
      "  File \"/home/hchonglondon/baselines/baselines/common/mpi_adam_optimizer.py\", line 68\n",
      "    f'MpiAdamOptimizer detected that different workers have different weights: {vals}'\n",
      "                                                                                     ^\n",
      "SyntaxError: invalid syntax\n"
     ]
    }
   ],
   "source": [
    "!OPENAI_LOGDIR=$HOME/logs/cartpole-ppo OPENAI_LOG_FORMAT=csv python -m baselines.run --alg=ppo2 --env=CartPole-v0 --num_timesteps=30000 --nsteps=128"
   ]
  },
  {
   "cell_type": "code",
   "execution_count": 16,
   "metadata": {
    "collapsed": false
   },
   "outputs": [
    {
     "name": "stdout",
     "output_type": "stream",
     "text": [
      "/home/hchonglondon/.local/lib/python3.5/site-packages/requests/__init__.py:83: RequestsDependencyWarning: Old version of cryptography ([1, 3]) may cause slowdown.\n",
      "  warnings.warn(warning, RequestsDependencyWarning)\n",
      "Logging to /tmp/openai-2019-05-24-14-28-57-351923\n",
      "env_type: classic_control\n",
      "2019-05-24 14:28:57.376034: I tensorflow/core/platform/cpu_feature_guard.cc:141] Your CPU supports instructions that this TensorFlow binary was not compiled to use: AVX2 FMA\n",
      "2019-05-24 14:28:57.382669: I tensorflow/core/platform/profile_utils/cpu_utils.cc:94] CPU Frequency: 2200000000 Hz\n",
      "2019-05-24 14:28:57.383849: I tensorflow/compiler/xla/service/service.cc:150] XLA service 0x5578e40 executing computations on platform Host. Devices:\n",
      "2019-05-24 14:28:57.383929: I tensorflow/compiler/xla/service/service.cc:158]   StreamExecutor device (0): <undefined>, <undefined>\n",
      "Training trpo_mpi on classic_control:MountainCarContinuous-v0 with arguments \n",
      "{'load_path': '~/models/mountaincar_trpo_te5', 'network': 'mlp'}\n",
      "WARNING:tensorflow:From /home/hchonglondon/baselines/baselines/common/input.py:57: to_float (from tensorflow.python.ops.math_ops) is deprecated and will be removed in a future version.\n",
      "Instructions for updating:\n",
      "Use tf.cast instead.\n",
      "WARNING:tensorflow:From /home/hchonglondon/baselines/baselines/common/models.py:94: flatten (from tensorflow.python.layers.core) is deprecated and will be removed in a future version.\n",
      "Instructions for updating:\n",
      "Use keras.layers.flatten instead.\n",
      "WARNING:tensorflow:From /home/hchonglondon/.local/lib/python3.5/site-packages/tensorflow/python/framework/op_def_library.py:263: colocate_with (from tensorflow.python.framework.ops) is deprecated and will be removed in a future version.\n",
      "Instructions for updating:\n",
      "Colocations handled automatically by placer.\n",
      "WARNING:tensorflow:From /home/hchonglondon/.local/lib/python3.5/site-packages/tensorflow/python/ops/math_ops.py:3066: to_int32 (from tensorflow.python.ops.math_ops) is deprecated and will be removed in a future version.\n",
      "Instructions for updating:\n",
      "Use tf.cast instead.\n",
      "load_state method is deprecated, please use load_variables instead\n",
      "WARNING:tensorflow:From /home/hchonglondon/.local/lib/python3.5/site-packages/tensorflow/python/training/saver.py:1266: checkpoint_exists (from tensorflow.python.training.checkpoint_management) is deprecated and will be removed in a future version.\n",
      "Instructions for updating:\n",
      "Use standard file APIs to check for files with this prefix.\n",
      "Traceback (most recent call last):\n",
      "  File \"/home/hchonglondon/anaconda3/lib/python3.5/runpy.py\", line 170, in _run_module_as_main\n",
      "    \"__main__\", mod_spec)\n",
      "  File \"/home/hchonglondon/anaconda3/lib/python3.5/runpy.py\", line 85, in _run_code\n",
      "    exec(code, run_globals)\n",
      "  File \"/home/hchonglondon/baselines/baselines/run.py\", line 244, in <module>\n",
      "    main(sys.argv)\n",
      "  File \"/home/hchonglondon/baselines/baselines/run.py\", line 210, in main\n",
      "    model, env = train(args, extra_args)\n",
      "  File \"/home/hchonglondon/baselines/baselines/run.py\", line 80, in train\n",
      "    **alg_kwargs\n",
      "  File \"/home/hchonglondon/baselines/baselines/trpo_mpi/trpo_mpi.py\", line 258, in learn\n",
      "    pi.load(load_path)\n",
      "  File \"/home/hchonglondon/baselines/baselines/common/policies.py\", line 119, in load\n",
      "    tf_util.load_state(load_path, sess=self.sess)\n",
      "  File \"/home/hchonglondon/baselines/baselines/common/tf_util.py\", line 330, in load_state\n",
      "    saver.restore(tf.get_default_session(), fname)\n",
      "  File \"/home/hchonglondon/.local/lib/python3.5/site-packages/tensorflow/python/training/saver.py\", line 1266, in restore\n",
      "    if not checkpoint_management.checkpoint_exists(compat.as_text(save_path)):\n",
      "  File \"/home/hchonglondon/.local/lib/python3.5/site-packages/tensorflow/python/util/deprecation.py\", line 324, in new_func\n",
      "    return func(*args, **kwargs)\n",
      "  File \"/home/hchonglondon/.local/lib/python3.5/site-packages/tensorflow/python/training/checkpoint_management.py\", line 372, in checkpoint_exists\n",
      "    if file_io.get_matching_files(pathname):\n",
      "  File \"/home/hchonglondon/.local/lib/python3.5/site-packages/tensorflow/python/lib/io/file_io.py\", line 361, in get_matching_files\n",
      "    return get_matching_files_v2(filename)\n",
      "  File \"/home/hchonglondon/.local/lib/python3.5/site-packages/tensorflow/python/lib/io/file_io.py\", line 389, in get_matching_files_v2\n",
      "    for single_filename in pattern\n",
      "  File \"/home/hchonglondon/.local/lib/python3.5/site-packages/tensorflow/python/framework/errors_impl.py\", line 528, in __exit__\n",
      "    c_api.TF_GetCode(self.status.status))\n",
      "tensorflow.python.framework.errors_impl.NotFoundError: ~/models; No such file or directory\n"
     ]
    }
   ],
   "source": [
    "!python -m baselines.run --alg=trpo_mpi --env='MountainCarContinuous-v0' --num_timesteps=0 --load_path=~/models/mountaincar_trpo_te5 --play"
   ]
  },
  {
   "cell_type": "code",
   "execution_count": null,
   "metadata": {
    "collapsed": true
   },
   "outputs": [],
   "source": []
  }
 ],
 "metadata": {
  "kernelspec": {
   "display_name": "Python 3",
   "language": "python",
   "name": "python3"
  },
  "language_info": {
   "codemirror_mode": {
    "name": "ipython",
    "version": 3
   },
   "file_extension": ".py",
   "mimetype": "text/x-python",
   "name": "python",
   "nbconvert_exporter": "python",
   "pygments_lexer": "ipython3",
   "version": "3.5.1"
  }
 },
 "nbformat": 4,
 "nbformat_minor": 0
}
