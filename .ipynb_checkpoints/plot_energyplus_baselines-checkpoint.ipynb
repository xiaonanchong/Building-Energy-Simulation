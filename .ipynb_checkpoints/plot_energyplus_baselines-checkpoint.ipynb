{
 "cells": [
  {
   "cell_type": "code",
   "execution_count": 9,
   "metadata": {
    "collapsed": false
   },
   "outputs": [
    {
     "name": "stdout",
     "output_type": "stream",
     "text": [
      "\u001b[33mYou are using pip version 8.1.1, however version 19.1.1 is available.\r\n",
      "You should consider upgrading via the 'pip install --upgrade pip' command.\u001b[0m\r\n"
     ]
    }
   ],
   "source": [
    "!pip install git+https://github.com/openai/baselines > ~/pip_install_baselines.log\n",
    "!OPENAI_LOGDIR=$HOME/logs/mountain_car_trpo OPENAI_LOG_FORMAT=csv"
   ]
  },
  {
   "cell_type": "code",
   "execution_count": 10,
   "metadata": {
    "collapsed": false
   },
   "outputs": [
    {
     "name": "stdout",
     "output_type": "stream",
     "text": [
      "/home/hchonglondon/.local/lib/python3.5/site-packages/requests/__init__.py:83: RequestsDependencyWarning: Old version of cryptography ([1, 3]) may cause slowdown.\n",
      "  warnings.warn(warning, RequestsDependencyWarning)\n",
      "Logging to /tmp/openai-2019-05-25-17-51-31-888006\n",
      "env_type: classic_control\n",
      "2019-05-25 17:51:31.912339: I tensorflow/core/platform/cpu_feature_guard.cc:141] Your CPU supports instructions that this TensorFlow binary was not compiled to use: AVX2 FMA\n",
      "2019-05-25 17:51:31.918418: I tensorflow/core/platform/profile_utils/cpu_utils.cc:94] CPU Frequency: 2200000000 Hz\n",
      "2019-05-25 17:51:31.919468: I tensorflow/compiler/xla/service/service.cc:150] XLA service 0x5ad3b80 executing computations on platform Host. Devices:\n",
      "2019-05-25 17:51:31.919576: I tensorflow/compiler/xla/service/service.cc:158]   StreamExecutor device (0): <undefined>, <undefined>\n",
      "Training trpo_mpi on classic_control:MountainCarContinuous-v0 with arguments \n",
      "{'network': 'mlp'}\n",
      "WARNING:tensorflow:From /home/hchonglondon/baselines/baselines/common/input.py:57: to_float (from tensorflow.python.ops.math_ops) is deprecated and will be removed in a future version.\n",
      "Instructions for updating:\n",
      "Use tf.cast instead.\n",
      "WARNING:tensorflow:From /home/hchonglondon/baselines/baselines/common/models.py:94: flatten (from tensorflow.python.layers.core) is deprecated and will be removed in a future version.\n",
      "Instructions for updating:\n",
      "Use keras.layers.flatten instead.\n",
      "WARNING:tensorflow:From /home/hchonglondon/.local/lib/python3.5/site-packages/tensorflow/python/framework/op_def_library.py:263: colocate_with (from tensorflow.python.framework.ops) is deprecated and will be removed in a future version.\n",
      "Instructions for updating:\n",
      "Colocations handled automatically by placer.\n",
      "WARNING:tensorflow:From /home/hchonglondon/.local/lib/python3.5/site-packages/tensorflow/python/ops/math_ops.py:3066: to_int32 (from tensorflow.python.ops.math_ops) is deprecated and will be removed in a future version.\n",
      "Instructions for updating:\n",
      "Use tf.cast instead.\n",
      "Init param sum 7.1023245\n",
      "********** Iteration 0 ************\n",
      "\u001b[35msampling\u001b[0m\n",
      "\u001b[35mdone in 0.916 seconds\u001b[0m\n",
      "\u001b[35mcomputegrad\u001b[0m\n",
      "\u001b[35mdone in 0.054 seconds\u001b[0m\n",
      "\u001b[35mcg\u001b[0m\n",
      "      iter residual norm  soln norm\n",
      "         0    0.00751          0\n",
      "         1    2.1e-06     0.0415\n",
      "         2   4.25e-07     0.0415\n",
      "         3   1.43e-07     0.0647\n",
      "         4   3.69e-11      0.069\n",
      "\u001b[35mdone in 0.099 seconds\u001b[0m\n",
      "Expected: 0.003 Actual: 0.003\n",
      "Stepsize OK!\n",
      "\u001b[35mvf\u001b[0m\n",
      "\u001b[35mdone in 0.152 seconds\u001b[0m\n",
      "------------------------------\n",
      "| entloss         | 0        |\n",
      "| entropy         | 1.41     |\n",
      "| EpisodesSoFar   | 1        |\n",
      "| EpLenMean       | 999      |\n",
      "| EpRewMean       | -50.4    |\n",
      "| EpThisIter      | 1        |\n",
      "| ev_tdlam_before | -0.00575 |\n",
      "| meankl          | 0.00101  |\n",
      "| optimgain       | 0.00266  |\n",
      "| surrgain        | 0.00266  |\n",
      "| TimeElapsed     | 1.3      |\n",
      "| TimestepsSoFar  | 999      |\n",
      "------------------------------\n"
     ]
    }
   ],
   "source": [
    "!python -m baselines.run --alg=trpo_mpi --env='MountainCarContinuous-v0' --num_timesteps=1e4  #'gym_energyplus:EnergyPlus-v0'"
   ]
  },
  {
   "cell_type": "code",
   "execution_count": 8,
   "metadata": {
    "collapsed": false
   },
   "outputs": [
    {
     "ename": "AssertionError",
     "evalue": "/home/hchonglondon/logs/cartpole-ppo doesn't exist",
     "output_type": "error",
     "traceback": [
      "\u001b[1;31m---------------------------------------------------------------------------\u001b[0m",
      "\u001b[1;31mAssertionError\u001b[0m                            Traceback (most recent call last)",
      "\u001b[1;32m<ipython-input-8-5552d4999a6e>\u001b[0m in \u001b[0;36m<module>\u001b[1;34m()\u001b[0m\n\u001b[0;32m      1\u001b[0m \u001b[1;32mfrom\u001b[0m \u001b[0mbaselines\u001b[0m\u001b[1;33m.\u001b[0m\u001b[0mcommon\u001b[0m \u001b[1;32mimport\u001b[0m \u001b[0mplot_util\u001b[0m \u001b[1;32mas\u001b[0m \u001b[0mpu\u001b[0m\u001b[1;33m\u001b[0m\u001b[0m\n\u001b[1;32m----> 2\u001b[1;33m \u001b[0mresults\u001b[0m \u001b[1;33m=\u001b[0m \u001b[0mpu\u001b[0m\u001b[1;33m.\u001b[0m\u001b[0mload_results\u001b[0m\u001b[1;33m(\u001b[0m\u001b[1;34m'~/logs/cartpole-ppo'\u001b[0m\u001b[1;33m)\u001b[0m\u001b[1;33m\u001b[0m\u001b[0m\n\u001b[0m\u001b[0;32m      3\u001b[0m \u001b[1;33m\u001b[0m\u001b[0m\n\u001b[0;32m      4\u001b[0m \u001b[1;33m\u001b[0m\u001b[0m\n\u001b[0;32m      5\u001b[0m \u001b[1;32mimport\u001b[0m \u001b[0mmatplotlib\u001b[0m\u001b[1;33m.\u001b[0m\u001b[0mpyplot\u001b[0m \u001b[1;32mas\u001b[0m \u001b[0mplt\u001b[0m\u001b[1;33m\u001b[0m\u001b[0m\n",
      "\u001b[1;32m/home/hchonglondon/baselines/baselines/common/plot_util.py\u001b[0m in \u001b[0;36mload_results\u001b[1;34m(root_dir_or_dirs, enable_progress, enable_monitor, verbose)\u001b[0m\n\u001b[0;32m    176\u001b[0m     \u001b[0mallresults\u001b[0m \u001b[1;33m=\u001b[0m \u001b[1;33m[\u001b[0m\u001b[1;33m]\u001b[0m\u001b[1;33m\u001b[0m\u001b[0m\n\u001b[0;32m    177\u001b[0m     \u001b[1;32mfor\u001b[0m \u001b[0mrootdir\u001b[0m \u001b[1;32min\u001b[0m \u001b[0mrootdirs\u001b[0m\u001b[1;33m:\u001b[0m\u001b[1;33m\u001b[0m\u001b[0m\n\u001b[1;32m--> 178\u001b[1;33m         \u001b[1;32massert\u001b[0m \u001b[0mosp\u001b[0m\u001b[1;33m.\u001b[0m\u001b[0mexists\u001b[0m\u001b[1;33m(\u001b[0m\u001b[0mrootdir\u001b[0m\u001b[1;33m)\u001b[0m\u001b[1;33m,\u001b[0m \u001b[1;34m\"%s doesn't exist\"\u001b[0m\u001b[1;33m%\u001b[0m\u001b[0mrootdir\u001b[0m\u001b[1;33m\u001b[0m\u001b[0m\n\u001b[0m\u001b[0;32m    179\u001b[0m         \u001b[1;32mfor\u001b[0m \u001b[0mdirname\u001b[0m\u001b[1;33m,\u001b[0m \u001b[0mdirs\u001b[0m\u001b[1;33m,\u001b[0m \u001b[0mfiles\u001b[0m \u001b[1;32min\u001b[0m \u001b[0mos\u001b[0m\u001b[1;33m.\u001b[0m\u001b[0mwalk\u001b[0m\u001b[1;33m(\u001b[0m\u001b[0mrootdir\u001b[0m\u001b[1;33m)\u001b[0m\u001b[1;33m:\u001b[0m\u001b[1;33m\u001b[0m\u001b[0m\n\u001b[0;32m    180\u001b[0m             \u001b[1;32mif\u001b[0m \u001b[1;34m'-proc'\u001b[0m \u001b[1;32min\u001b[0m \u001b[0mdirname\u001b[0m\u001b[1;33m:\u001b[0m\u001b[1;33m\u001b[0m\u001b[0m\n",
      "\u001b[1;31mAssertionError\u001b[0m: /home/hchonglondon/logs/cartpole-ppo doesn't exist"
     ]
    }
   ],
   "source": [
    "from baselines.common import plot_util as pu\n",
    "results = pu.load_results('~/logs/cartpole-ppo')\n",
    "\n",
    "\n",
    "import matplotlib.pyplot as plt\n",
    "import numpy as np\n",
    "r = results[0]\n",
    "plt.plot(np.cumsum(r.monitor.l), r.monitor.r)"
   ]
  },
  {
   "cell_type": "code",
   "execution_count": null,
   "metadata": {
    "collapsed": true
   },
   "outputs": [],
   "source": [
    "plt.plot(np.cumsum(r.monitor.l), pu.smooth(r.monitor.r, radius=10))"
   ]
  },
  {
   "cell_type": "code",
   "execution_count": null,
   "metadata": {
    "collapsed": true
   },
   "outputs": [],
   "source": [
    "plt.plot(r.progress.total_timesteps, r.progress.eprewmean)"
   ]
  },
  {
   "cell_type": "code",
   "execution_count": null,
   "metadata": {
    "collapsed": true
   },
   "outputs": [],
   "source": []
  }
 ],
 "metadata": {
  "kernelspec": {
   "display_name": "Python 3",
   "language": "python",
   "name": "python3"
  },
  "language_info": {
   "codemirror_mode": {
    "name": "ipython",
    "version": 3
   },
   "file_extension": ".py",
   "mimetype": "text/x-python",
   "name": "python",
   "nbconvert_exporter": "python",
   "pygments_lexer": "ipython3",
   "version": "3.5.1"
  }
 },
 "nbformat": 4,
 "nbformat_minor": 0
}
